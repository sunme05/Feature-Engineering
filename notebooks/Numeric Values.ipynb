{
 "cells": [
  {
   "attachments": {},
   "cell_type": "markdown",
   "metadata": {},
   "source": [
    "# Trick for numeric data\n",
    "\n",
    "### factors to consider\n",
    "- size of values\n",
    "    - only positive values? or also negative values?\n",
    "    - are the values able to be expressed in bins?\n",
    "- scale\n",
    "    - smoothing functions/models such as k-NN, k-means, RBF are scale dependent\n",
    "    - logical functions/models such as tree-based models, gradient boosting machine, random forest are less dependent to scale of data\n",
    "- distributions (데이터의 분포)\n",
    "- usage of polynomial features (상호작용 피처)"
   ]
  },
  {
   "cell_type": "code",
   "execution_count": 2,
   "metadata": {},
   "outputs": [],
   "source": [
    "import pandas as pd\n",
    "import json"
   ]
  },
  {
   "attachments": {},
   "cell_type": "markdown",
   "metadata": {},
   "source": [
    "## 1. Processing Counts\n",
    "\n",
    "### 1.1. Binarize"
   ]
  },
  {
   "cell_type": "code",
   "execution_count": 6,
   "metadata": {},
   "outputs": [],
   "source": [
    "data = open('../data/yelp_academic_dataset_business.json')\n",
    "df = pd.DataFrame([json.loads(x) for x in data.readlines()])\n",
    "data.close()"
   ]
  },
  {
   "cell_type": "code",
   "execution_count": 11,
   "metadata": {},
   "outputs": [
    {
     "data": {
      "text/html": [
       "<div>\n",
       "<style scoped>\n",
       "    .dataframe tbody tr th:only-of-type {\n",
       "        vertical-align: middle;\n",
       "    }\n",
       "\n",
       "    .dataframe tbody tr th {\n",
       "        vertical-align: top;\n",
       "    }\n",
       "\n",
       "    .dataframe thead th {\n",
       "        text-align: right;\n",
       "    }\n",
       "</style>\n",
       "<table border=\"1\" class=\"dataframe\">\n",
       "  <thead>\n",
       "    <tr style=\"text-align: right;\">\n",
       "      <th></th>\n",
       "      <th>business_id</th>\n",
       "      <th>name</th>\n",
       "      <th>address</th>\n",
       "      <th>city</th>\n",
       "      <th>state</th>\n",
       "      <th>postal_code</th>\n",
       "      <th>latitude</th>\n",
       "      <th>longitude</th>\n",
       "      <th>stars</th>\n",
       "      <th>review_count</th>\n",
       "      <th>is_open</th>\n",
       "      <th>attributes</th>\n",
       "      <th>categories</th>\n",
       "      <th>hours</th>\n",
       "    </tr>\n",
       "  </thead>\n",
       "  <tbody>\n",
       "    <tr>\n",
       "      <th>0</th>\n",
       "      <td>Pns2l4eNsfO8kk83dixA6A</td>\n",
       "      <td>Abby Rappoport, LAC, CMQ</td>\n",
       "      <td>1616 Chapala St, Ste 2</td>\n",
       "      <td>Santa Barbara</td>\n",
       "      <td>CA</td>\n",
       "      <td>93101</td>\n",
       "      <td>34.426679</td>\n",
       "      <td>-119.711197</td>\n",
       "      <td>5.0</td>\n",
       "      <td>7</td>\n",
       "      <td>0</td>\n",
       "      <td>{'ByAppointmentOnly': 'True'}</td>\n",
       "      <td>Doctors, Traditional Chinese Medicine, Naturop...</td>\n",
       "      <td>None</td>\n",
       "    </tr>\n",
       "  </tbody>\n",
       "</table>\n",
       "</div>"
      ],
      "text/plain": [
       "              business_id                      name                 address  \\\n",
       "0  Pns2l4eNsfO8kk83dixA6A  Abby Rappoport, LAC, CMQ  1616 Chapala St, Ste 2   \n",
       "\n",
       "            city state postal_code   latitude   longitude  stars  \\\n",
       "0  Santa Barbara    CA       93101  34.426679 -119.711197    5.0   \n",
       "\n",
       "   review_count  is_open                     attributes  \\\n",
       "0             7        0  {'ByAppointmentOnly': 'True'}   \n",
       "\n",
       "                                          categories hours  \n",
       "0  Doctors, Traditional Chinese Medicine, Naturop...  None  "
      ]
     },
     "execution_count": 11,
     "metadata": {},
     "output_type": "execute_result"
    }
   ],
   "source": [
    "df.head(1)"
   ]
  },
  {
   "cell_type": "code",
   "execution_count": 12,
   "metadata": {},
   "outputs": [],
   "source": [
    "df['stars_to_binary'] = df['stars'].apply(lambda x : 1 if x > 3 else 0)"
   ]
  },
  {
   "cell_type": "code",
   "execution_count": 15,
   "metadata": {},
   "outputs": [
    {
     "data": {
      "text/html": [
       "<div>\n",
       "<style scoped>\n",
       "    .dataframe tbody tr th:only-of-type {\n",
       "        vertical-align: middle;\n",
       "    }\n",
       "\n",
       "    .dataframe tbody tr th {\n",
       "        vertical-align: top;\n",
       "    }\n",
       "\n",
       "    .dataframe thead th {\n",
       "        text-align: right;\n",
       "    }\n",
       "</style>\n",
       "<table border=\"1\" class=\"dataframe\">\n",
       "  <thead>\n",
       "    <tr style=\"text-align: right;\">\n",
       "      <th></th>\n",
       "      <th>stars</th>\n",
       "      <th>stars_to_binary</th>\n",
       "    </tr>\n",
       "  </thead>\n",
       "  <tbody>\n",
       "    <tr>\n",
       "      <th>0</th>\n",
       "      <td>5.0</td>\n",
       "      <td>1</td>\n",
       "    </tr>\n",
       "    <tr>\n",
       "      <th>1</th>\n",
       "      <td>3.0</td>\n",
       "      <td>0</td>\n",
       "    </tr>\n",
       "    <tr>\n",
       "      <th>2</th>\n",
       "      <td>3.5</td>\n",
       "      <td>1</td>\n",
       "    </tr>\n",
       "    <tr>\n",
       "      <th>3</th>\n",
       "      <td>4.0</td>\n",
       "      <td>1</td>\n",
       "    </tr>\n",
       "    <tr>\n",
       "      <th>4</th>\n",
       "      <td>4.5</td>\n",
       "      <td>1</td>\n",
       "    </tr>\n",
       "    <tr>\n",
       "      <th>5</th>\n",
       "      <td>2.0</td>\n",
       "      <td>0</td>\n",
       "    </tr>\n",
       "    <tr>\n",
       "      <th>6</th>\n",
       "      <td>2.5</td>\n",
       "      <td>0</td>\n",
       "    </tr>\n",
       "    <tr>\n",
       "      <th>7</th>\n",
       "      <td>3.5</td>\n",
       "      <td>1</td>\n",
       "    </tr>\n",
       "    <tr>\n",
       "      <th>8</th>\n",
       "      <td>3.0</td>\n",
       "      <td>0</td>\n",
       "    </tr>\n",
       "    <tr>\n",
       "      <th>9</th>\n",
       "      <td>1.5</td>\n",
       "      <td>0</td>\n",
       "    </tr>\n",
       "  </tbody>\n",
       "</table>\n",
       "</div>"
      ],
      "text/plain": [
       "   stars  stars_to_binary\n",
       "0    5.0                1\n",
       "1    3.0                0\n",
       "2    3.5                1\n",
       "3    4.0                1\n",
       "4    4.5                1\n",
       "5    2.0                0\n",
       "6    2.5                0\n",
       "7    3.5                1\n",
       "8    3.0                0\n",
       "9    1.5                0"
      ]
     },
     "execution_count": 15,
     "metadata": {},
     "output_type": "execute_result"
    }
   ],
   "source": [
    "df[['stars', 'stars_to_binary']].head(10)"
   ]
  },
  {
   "attachments": {},
   "cell_type": "markdown",
   "metadata": {},
   "source": [
    "### 1.2. Quantization (count -> bin)\n",
    "- fixed-length binning(고정 폭 비닝)\n",
    "    - 상수적 폭 (1-10, 11-20)\n",
    "    - 지수적 폭 (10, 100, 1000)\n",
    "    - 로그 폭 (8, 4, 2, 1)"
   ]
  },
  {
   "cell_type": "code",
   "execution_count": 22,
   "metadata": {},
   "outputs": [
    {
     "data": {
      "text/plain": [
       "array([8, 9, 1, 4, 6, 1, 3, 3, 9, 6, 5, 3, 1, 0, 7, 5, 5, 3, 2, 6])"
      ]
     },
     "execution_count": 22,
     "metadata": {},
     "output_type": "execute_result"
    }
   ],
   "source": [
    "# fixed-binning by size of 10\n",
    "# ex. 0-99 사이의 숫자로만 구성된 경우 => %10 해서 0-9에 매핑\n",
    "import numpy as np \n",
    "counts = np.random.randint(0, 100, 20)\n",
    "np.floor_divide(counts, 10) "
   ]
  },
  {
   "cell_type": "code",
   "execution_count": 24,
   "metadata": {},
   "outputs": [
    {
     "data": {
      "text/plain": [
       "array([3., 3., 3., 3., 3., 3., 3., 3., 3., 2., 3., 2., 3., 3., 3., 3., 3.,\n",
       "       3., 3., 2.])"
      ]
     },
     "execution_count": 24,
     "metadata": {},
     "output_type": "execute_result"
    }
   ],
   "source": [
    "# fixed-binning by log\n",
    "# ex. 여러 자리수에 걸쳐 있는 카운트 배열 => 로그 함수에 매핑\n",
    "counts = np.random.randint(100, 10000, 20)\n",
    "np.floor(np.log10(counts))"
   ]
  },
  {
   "attachments": {},
   "cell_type": "markdown",
   "metadata": {},
   "source": [
    "### 1.3. Quantile Binning (counts -> quantiles)\n",
    "앞선 고정 폭 비닝은 사용하긴 쉽지만, 카운트 사이에 갭이 있다면 데이터가 비어 있는 빈(bin)이 많아진다. => 분포의 분위수를 이용하여 비닝 수행"
   ]
  },
  {
   "cell_type": "code",
   "execution_count": 31,
   "metadata": {},
   "outputs": [
    {
     "name": "stdout",
     "output_type": "stream",
     "text": [
      "result of 25%, 50%, 75% : \n",
      "0.25    1345.75\n",
      "0.50    2555.50\n",
      "0.75    5993.25\n",
      "dtype: float64\n"
     ]
    }
   ],
   "source": [
    "counts_series = pd.Series(counts)\n",
    "print('result of 25%, 50%, 75% : \\n', counts_series.quantile([0.25, 0.5, 0.75]), sep = '')"
   ]
  },
  {
   "cell_type": "code",
   "execution_count": 32,
   "metadata": {},
   "outputs": [
    {
     "name": "stdout",
     "output_type": "stream",
     "text": [
      "result of 10%, 20%, 30%, ..., 90% : \n",
      "0.1     875.4\n",
      "0.2    1169.6\n",
      "0.3    1696.7\n",
      "0.4    2039.4\n",
      "0.5    2555.5\n",
      "0.6    4010.8\n",
      "0.7    5463.0\n",
      "0.8    6603.0\n",
      "0.9    7639.6\n",
      "dtype: float64\n"
     ]
    }
   ],
   "source": [
    "print('result of 10%, 20%, 30%, ..., 90% : \\n', \n",
    "        counts_series.quantile([0.1, 0.2, 0.3, 0.4, 0.5, 0.6, 0.7, 0.8, 0.9]), sep = '')"
   ]
  },
  {
   "cell_type": "code",
   "execution_count": 33,
   "metadata": {},
   "outputs": [
    {
     "data": {
      "text/plain": [
       "array([9, 2, 7, 9, 5, 6, 7, 6, 1, 0, 2, 1, 3, 8, 3, 5, 8, 4, 4, 0])"
      ]
     },
     "execution_count": 33,
     "metadata": {},
     "output_type": "execute_result"
    }
   ],
   "source": [
    "# using qcut to map counts to quantile bins\n",
    "pd.qcut(counts, 10, labels = False)"
   ]
  },
  {
   "cell_type": "code",
   "execution_count": null,
   "metadata": {},
   "outputs": [],
   "source": []
  },
  {
   "cell_type": "code",
   "execution_count": null,
   "metadata": {},
   "outputs": [],
   "source": []
  },
  {
   "attachments": {},
   "cell_type": "markdown",
   "metadata": {},
   "source": [
    "## 2. Log Transformation (a.k.a. Variance-Stabilizing Transformation)\n",
    "Log transformation is a powerful tool in feature engineering, and it's frequently used in various data science and statistical contexts. Here are the reasons why log transformation can be beneficial:\n",
    "\n",
    "- Transforming Skewed Data: Many algorithms (e.g., linear regression) assume that the data is normally distributed, or at least symmetrically distributed. If a feature is highly skewed, a log transformation can help in making the data more \"normal\". This can make certain algorithms perform better and predictions more accurate.\n",
    "- Stabilizing Variance: In some scenarios, the variance of a dataset might increase with the level of the variable (heteroscedasticity). Log transformation can help stabilize the variance across levels.\n",
    "- Easier Interpretability: In certain contexts, especially when dealing with growth rates or multiplicative changes, a log-transformed scale can be more intuitive. For instance, in finance, log returns are commonly used because they are additive across time.\n",
    "- Reducing the Influence of Outliers: Log transformation can decrease the relative gaps between values, especially when values have a wide range. This can, in turn, reduce the undue influence of extreme values or outliers.\n",
    "- Making Relationships More Linear: In cases where the relationship between the response and the predictor variables is inherently exponential or multiplicative, taking the log of one or both variables might make the relationship more linear, and thus more suitable for algorithms that assume linear relationships.\n",
    "- Scaling Down Values: Some features might have values that are several orders of magnitude larger than others. Log transformation can scale these values down to a range that's more manageable for many algorithms.\n",
    "\n",
    "However, while log transformation has its benefits, there are also considerations and limitations:\n",
    "- Positive Values Only: You can only take the log of positive values. If your data contains zero or negative values, you'll need to apply an offset or use another transformation.\n",
    "- Loss of Original Scale: Once you transform your data, it’s on a different scale. This can sometimes make interpretation less intuitive if you're not accustomed to thinking in logarithmic terms.\n",
    "- Not Always the Best Transformation: Depending on the specific characteristics of your data and the problem at hand, other transformations (e.g., square root, inverse, Box-Cox) might be more appropriate."
   ]
  },
  {
   "cell_type": "code",
   "execution_count": 36,
   "metadata": {},
   "outputs": [],
   "source": [
    "from scipy import stats \n",
    "\n",
    "# data에 Yelp 비즈니스 리뷰 데이터를 담아준다.\n",
    "# 거듭제곱 변환(Log, Box-Cox 변환)해주기 위한 라이브러리를 불러온다\n",
    "# 이때 Box-Cox 변환은 입력 데이터가 양수라고 가정한다.\n",
    "\n",
    "# log 변환\n",
    "df['review_cnt_log'] = stats.boxcox(df['review_count'], lmbda = 0) \n",
    "\n",
    "# Box-Cox 변환\n",
    "# 출력을 정규 분포에 가장 가깝게 만드는 람다 파라미터와, 변환의 결과를 반환한다 \n",
    "df['review_cnt_boxcox'], boxcox_params = stats.boxcox(df['review_count'])"
   ]
  },
  {
   "cell_type": "code",
   "execution_count": 38,
   "metadata": {},
   "outputs": [
    {
     "data": {
      "image/png": "[encoded data removed]",
      "text/plain": [
       "<Figure size 640x480 with 3 Axes>"
      ]
     },
     "metadata": {},
     "output_type": "display_data"
    }
   ],
   "source": [
    "# 시각화\n",
    "import matplotlib.pyplot as plt\n",
    "fig, (ax1, ax2, ax3) = plt.subplots(3, 1)\n",
    "\n",
    "# 원본 리뷰 카운트 히스토그램\n",
    "df['review_count'].hist(ax = ax1, bins = 100)\n",
    "ax1.set_yscale('log')\n",
    "ax1.tick_params(labelsize = 14)\n",
    "ax1.set_title('Review Counts Histogram', fontsize = 14)\n",
    "ax1.set_xlabel('')\n",
    "ax1.set_ylabel('Occurrance', fontsize = 14)\n",
    "\n",
    "# 로그 변환된 리뷰 카운트 히스토그램\n",
    "df['review_cnt_log'].hist(ax = ax2, bins = 100)\n",
    "ax2.set_yscale('log')\n",
    "ax2.tick_params(labelsize = 14)\n",
    "ax2.set_title('Log Transformed Counts Histogram', fontsize = 14)\n",
    "ax2.set_xlabel('')\n",
    "ax2.set_ylabel('Occurrance', fontsize = 14)\n",
    "\n",
    "# Box-Cox 변환된 리뷰 카운트 히스토그램\n",
    "df['review_cnt_boxcox'].hist(ax = ax3, bins = 100)\n",
    "ax3.set_yscale('log')\n",
    "ax3.tick_params(labelsize = 14)\n",
    "ax3.set_title('Box-Cox Transformed Counts Histogram', fontsize = 14)\n",
    "ax3.set_xlabel('')\n",
    "ax3.set_ylabel('Occurrance', fontsize = 14)\n",
    "\n",
    "plt.tight_layout()\n",
    "plt.show()"
   ]
  },
  {
   "cell_type": "code",
   "execution_count": null,
   "metadata": {},
   "outputs": [],
   "source": []
  },
  {
   "attachments": {},
   "cell_type": "markdown",
   "metadata": {},
   "source": [
    "# 3. Feature Scaling, Feature Normalization\n",
    "- 피처 스케일에 민감한 모델은 스케일링 진행\n",
    "- 일반적으로 각각의 피처에 대해서 개별적으로 수행함"
   ]
  },
  {
   "cell_type": "code",
   "execution_count": 39,
   "metadata": {},
   "outputs": [
    {
     "name": "stderr",
     "output_type": "stream",
     "text": [
      "/var/folders/5n/2hnyrkv51vbd56wdk0kttw980000gn/T/ipykernel_43921/3997919622.py:2: ParserWarning: Falling back to the 'python' engine because the 'c' engine does not support regex separators (separators > 1 char and different from '\\s+' are interpreted as regex); you can avoid this warning by specifying engine='python'.\n",
      "  df = pd.read_csv('../data/OnlineNewsPopularity.csv', delimiter = ', ')\n"
     ]
    },
    {
     "data": {
      "text/html": [
       "<div>\n",
       "<style scoped>\n",
       "    .dataframe tbody tr th:only-of-type {\n",
       "        vertical-align: middle;\n",
       "    }\n",
       "\n",
       "    .dataframe tbody tr th {\n",
       "        vertical-align: top;\n",
       "    }\n",
       "\n",
       "    .dataframe thead th {\n",
       "        text-align: right;\n",
       "    }\n",
       "</style>\n",
       "<table border=\"1\" class=\"dataframe\">\n",
       "  <thead>\n",
       "    <tr style=\"text-align: right;\">\n",
       "      <th></th>\n",
       "      <th>url</th>\n",
       "      <th>timedelta</th>\n",
       "      <th>n_tokens_title</th>\n",
       "      <th>n_tokens_content</th>\n",
       "      <th>n_unique_tokens</th>\n",
       "      <th>n_non_stop_words</th>\n",
       "      <th>n_non_stop_unique_tokens</th>\n",
       "      <th>num_hrefs</th>\n",
       "      <th>num_self_hrefs</th>\n",
       "      <th>num_imgs</th>\n",
       "      <th>...</th>\n",
       "      <th>min_positive_polarity</th>\n",
       "      <th>max_positive_polarity</th>\n",
       "      <th>avg_negative_polarity</th>\n",
       "      <th>min_negative_polarity</th>\n",
       "      <th>max_negative_polarity</th>\n",
       "      <th>title_subjectivity</th>\n",
       "      <th>title_sentiment_polarity</th>\n",
       "      <th>abs_title_subjectivity</th>\n",
       "      <th>abs_title_sentiment_polarity</th>\n",
       "      <th>shares</th>\n",
       "    </tr>\n",
       "  </thead>\n",
       "  <tbody>\n",
       "    <tr>\n",
       "      <th>0</th>\n",
       "      <td>http://mashable.com/2013/01/07/amazon-instant-...</td>\n",
       "      <td>731.0</td>\n",
       "      <td>12.0</td>\n",
       "      <td>219.0</td>\n",
       "      <td>0.663594</td>\n",
       "      <td>1.0</td>\n",
       "      <td>0.815385</td>\n",
       "      <td>4.0</td>\n",
       "      <td>2.0</td>\n",
       "      <td>1.0</td>\n",
       "      <td>...</td>\n",
       "      <td>0.100000</td>\n",
       "      <td>0.7</td>\n",
       "      <td>-0.350000</td>\n",
       "      <td>-0.600</td>\n",
       "      <td>-0.200000</td>\n",
       "      <td>0.500000</td>\n",
       "      <td>-0.187500</td>\n",
       "      <td>0.000000</td>\n",
       "      <td>0.187500</td>\n",
       "      <td>593</td>\n",
       "    </tr>\n",
       "    <tr>\n",
       "      <th>1</th>\n",
       "      <td>http://mashable.com/2013/01/07/ap-samsung-spon...</td>\n",
       "      <td>731.0</td>\n",
       "      <td>9.0</td>\n",
       "      <td>255.0</td>\n",
       "      <td>0.604743</td>\n",
       "      <td>1.0</td>\n",
       "      <td>0.791946</td>\n",
       "      <td>3.0</td>\n",
       "      <td>1.0</td>\n",
       "      <td>1.0</td>\n",
       "      <td>...</td>\n",
       "      <td>0.033333</td>\n",
       "      <td>0.7</td>\n",
       "      <td>-0.118750</td>\n",
       "      <td>-0.125</td>\n",
       "      <td>-0.100000</td>\n",
       "      <td>0.000000</td>\n",
       "      <td>0.000000</td>\n",
       "      <td>0.500000</td>\n",
       "      <td>0.000000</td>\n",
       "      <td>711</td>\n",
       "    </tr>\n",
       "    <tr>\n",
       "      <th>2</th>\n",
       "      <td>http://mashable.com/2013/01/07/apple-40-billio...</td>\n",
       "      <td>731.0</td>\n",
       "      <td>9.0</td>\n",
       "      <td>211.0</td>\n",
       "      <td>0.575130</td>\n",
       "      <td>1.0</td>\n",
       "      <td>0.663866</td>\n",
       "      <td>3.0</td>\n",
       "      <td>1.0</td>\n",
       "      <td>1.0</td>\n",
       "      <td>...</td>\n",
       "      <td>0.100000</td>\n",
       "      <td>1.0</td>\n",
       "      <td>-0.466667</td>\n",
       "      <td>-0.800</td>\n",
       "      <td>-0.133333</td>\n",
       "      <td>0.000000</td>\n",
       "      <td>0.000000</td>\n",
       "      <td>0.500000</td>\n",
       "      <td>0.000000</td>\n",
       "      <td>1500</td>\n",
       "    </tr>\n",
       "    <tr>\n",
       "      <th>3</th>\n",
       "      <td>http://mashable.com/2013/01/07/astronaut-notre...</td>\n",
       "      <td>731.0</td>\n",
       "      <td>9.0</td>\n",
       "      <td>531.0</td>\n",
       "      <td>0.503788</td>\n",
       "      <td>1.0</td>\n",
       "      <td>0.665635</td>\n",
       "      <td>9.0</td>\n",
       "      <td>0.0</td>\n",
       "      <td>1.0</td>\n",
       "      <td>...</td>\n",
       "      <td>0.136364</td>\n",
       "      <td>0.8</td>\n",
       "      <td>-0.369697</td>\n",
       "      <td>-0.600</td>\n",
       "      <td>-0.166667</td>\n",
       "      <td>0.000000</td>\n",
       "      <td>0.000000</td>\n",
       "      <td>0.500000</td>\n",
       "      <td>0.000000</td>\n",
       "      <td>1200</td>\n",
       "    </tr>\n",
       "    <tr>\n",
       "      <th>4</th>\n",
       "      <td>http://mashable.com/2013/01/07/att-u-verse-apps/</td>\n",
       "      <td>731.0</td>\n",
       "      <td>13.0</td>\n",
       "      <td>1072.0</td>\n",
       "      <td>0.415646</td>\n",
       "      <td>1.0</td>\n",
       "      <td>0.540890</td>\n",
       "      <td>19.0</td>\n",
       "      <td>19.0</td>\n",
       "      <td>20.0</td>\n",
       "      <td>...</td>\n",
       "      <td>0.033333</td>\n",
       "      <td>1.0</td>\n",
       "      <td>-0.220192</td>\n",
       "      <td>-0.500</td>\n",
       "      <td>-0.050000</td>\n",
       "      <td>0.454545</td>\n",
       "      <td>0.136364</td>\n",
       "      <td>0.045455</td>\n",
       "      <td>0.136364</td>\n",
       "      <td>505</td>\n",
       "    </tr>\n",
       "  </tbody>\n",
       "</table>\n",
       "<p>5 rows × 61 columns</p>\n",
       "</div>"
      ],
      "text/plain": [
       "                                                 url  timedelta  \\\n",
       "0  http://mashable.com/2013/01/07/amazon-instant-...      731.0   \n",
       "1  http://mashable.com/2013/01/07/ap-samsung-spon...      731.0   \n",
       "2  http://mashable.com/2013/01/07/apple-40-billio...      731.0   \n",
       "3  http://mashable.com/2013/01/07/astronaut-notre...      731.0   \n",
       "4   http://mashable.com/2013/01/07/att-u-verse-apps/      731.0   \n",
       "\n",
       "   n_tokens_title  n_tokens_content  n_unique_tokens  n_non_stop_words  \\\n",
       "0            12.0             219.0         0.663594               1.0   \n",
       "1             9.0             255.0         0.604743               1.0   \n",
       "2             9.0             211.0         0.575130               1.0   \n",
       "3             9.0             531.0         0.503788               1.0   \n",
       "4            13.0            1072.0         0.415646               1.0   \n",
       "\n",
       "   n_non_stop_unique_tokens  num_hrefs  num_self_hrefs  num_imgs  ...  \\\n",
       "0                  0.815385        4.0             2.0       1.0  ...   \n",
       "1                  0.791946        3.0             1.0       1.0  ...   \n",
       "2                  0.663866        3.0             1.0       1.0  ...   \n",
       "3                  0.665635        9.0             0.0       1.0  ...   \n",
       "4                  0.540890       19.0            19.0      20.0  ...   \n",
       "\n",
       "   min_positive_polarity  max_positive_polarity  avg_negative_polarity  \\\n",
       "0               0.100000                    0.7              -0.350000   \n",
       "1               0.033333                    0.7              -0.118750   \n",
       "2               0.100000                    1.0              -0.466667   \n",
       "3               0.136364                    0.8              -0.369697   \n",
       "4               0.033333                    1.0              -0.220192   \n",
       "\n",
       "   min_negative_polarity  max_negative_polarity  title_subjectivity  \\\n",
       "0                 -0.600              -0.200000            0.500000   \n",
       "1                 -0.125              -0.100000            0.000000   \n",
       "2                 -0.800              -0.133333            0.000000   \n",
       "3                 -0.600              -0.166667            0.000000   \n",
       "4                 -0.500              -0.050000            0.454545   \n",
       "\n",
       "   title_sentiment_polarity  abs_title_subjectivity  \\\n",
       "0                 -0.187500                0.000000   \n",
       "1                  0.000000                0.500000   \n",
       "2                  0.000000                0.500000   \n",
       "3                  0.000000                0.500000   \n",
       "4                  0.136364                0.045455   \n",
       "\n",
       "   abs_title_sentiment_polarity  shares  \n",
       "0                      0.187500     593  \n",
       "1                      0.000000     711  \n",
       "2                      0.000000    1500  \n",
       "3                      0.000000    1200  \n",
       "4                      0.136364     505  \n",
       "\n",
       "[5 rows x 61 columns]"
      ]
     },
     "execution_count": 39,
     "metadata": {},
     "output_type": "execute_result"
    }
   ],
   "source": [
    "# read Online News Popularity dataset\n",
    "df = pd.read_csv('../data/OnlineNewsPopularity.csv', delimiter = ', ')\n",
    "df.head()"
   ]
  },
  {
   "cell_type": "code",
   "execution_count": 46,
   "metadata": {},
   "outputs": [],
   "source": [
    "# https://scikit-learn.org/stable/modules/generated/sklearn.preprocessing.Normalizer.html\n",
    "from sklearn import preprocessing \n",
    "min_max_scaler = preprocessing.MinMaxScaler()\n",
    "standard_scaler = preprocessing.StandardScaler()"
   ]
  },
  {
   "cell_type": "code",
   "execution_count": 49,
   "metadata": {},
   "outputs": [],
   "source": [
    "X = df[['n_tokens_content']]\n",
    "df['X_min_max'] = min_max_scaler.fit_transform(X)\n",
    "df['X_stand'] = standard_scaler.fit_transform(X)\n",
    "df['X_l2'] = preprocessing.normalize(X, axis = 0)"
   ]
  },
  {
   "cell_type": "code",
   "execution_count": 50,
   "metadata": {},
   "outputs": [
    {
     "data": {
      "image/png": "[encoded data removed]",
      "text/plain": [
       "<Figure size 640x480 with 4 Axes>"
      ]
     },
     "metadata": {},
     "output_type": "display_data"
    }
   ],
   "source": [
    "fig, (ax1, ax2, ax3, ax4) = plt.subplots(4, 1)\n",
    "\n",
    "df['n_tokens_content'].hist(ax=ax1, bins=100)\n",
    "ax1.tick_params(labelsize = 14)\n",
    "ax1.set_xlabel('Article Word Count', fontsize = 14)\n",
    "ax1.set_ylabel('Number of Articles', fontsize = 14)\n",
    "\n",
    "df['X_min_max'].hist(ax=ax2, bins=100)\n",
    "ax2.tick_params(labelsize = 14)\n",
    "ax2.set_xlabel('Min_Max Scaled Word Count', fontsize = 14)\n",
    "\n",
    "df['X_stand'].hist(ax=ax3, bins=100)\n",
    "ax3.tick_params(labelsize = 14)\n",
    "ax3.set_xlabel('Standardized Word Count', fontsize = 14)\n",
    "\n",
    "df['X_l2'].hist(ax=ax4, bins=100)\n",
    "ax4.tick_params(labelsize = 14)\n",
    "ax4.set_xlabel('L2-Normalized Word Count', fontsize = 14)\n",
    "fig.tight_layout()"
   ]
  },
  {
   "attachments": {},
   "cell_type": "markdown",
   "metadata": {},
   "source": [
    "# 4. Polynomial Features\n",
    "Combining more than 2 features\n",
    "- 1. 단순 선형결합: y = w1x1 + w2x2 + .. + wnxn\n",
    "- 2. 쌍 결합(pairwise): y = w1x1 + w2x2 + .. + wnxn + w11x1x1 + w12x1x2 + ... + w1nx1xn + wnnxnxn"
   ]
  },
  {
   "cell_type": "code",
   "execution_count": 12,
   "metadata": {},
   "outputs": [],
   "source": [
    "import pandas as pd\n",
    "from sklearn.linear_model import LinearRegression\n",
    "from sklearn.model_selection import train_test_split \n",
    "from sklearn import preprocessing\n"
   ]
  },
  {
   "cell_type": "code",
   "execution_count": 13,
   "metadata": {},
   "outputs": [
    {
     "name": "stderr",
     "output_type": "stream",
     "text": [
      "/var/folders/5n/2hnyrkv51vbd56wdk0kttw980000gn/T/ipykernel_57133/2361188668.py:1: ParserWarning: Falling back to the 'python' engine because the 'c' engine does not support regex separators (separators > 1 char and different from '\\s+' are interpreted as regex); you can avoid this warning by specifying engine='python'.\n",
      "  df = pd.read_csv('../data/OnlineNewsPopularity.csv', delimiter = ', ')\n"
     ]
    }
   ],
   "source": [
    "df = pd.read_csv('../data/OnlineNewsPopularity.csv', delimiter = ', ')\n",
    "\n",
    "# 파생 피처를 제외하고 콘텐츠 기반 피처만 개별 피처로 선택해서 모델에서 사용\n",
    "features = ['n_tokens_title', 'n_tokens_content', 'n_unique_tokens', \\\n",
    "            'n_non_stop_words', 'n_non_stop_unique_tokens', 'num_hrefs', 'num_self_hrefs', \\\n",
    "            'num_imgs', 'num_videos', 'average_token_length', 'num_keywords', 'data_channel_is_lifestyle', \\\n",
    "            'data_channel_is_entertainment', 'data_channel_is_bus', 'data_channel_is_socmed', 'data_channel_is_tech', 'data_channel_is_world'\n",
    "        ]\n",
    "X = df[features]\n",
    "X2 = preprocessing.PolynomialFeatures(include_bias=False).fit_transform(X)\n",
    "y = df[['shares']]"
   ]
  },
  {
   "cell_type": "code",
   "execution_count": 14,
   "metadata": {},
   "outputs": [
    {
     "name": "stdout",
     "output_type": "stream",
     "text": [
      "R-squared score with singleton features: 0.00926\n",
      "R-squared source with pairwise features: 0.0042263978\n"
     ]
    }
   ],
   "source": [
    "# 두개의 피처 집합을 모두 train, test set으로 분할 \n",
    "X1_train, X1_test, X2_train, X2_test, y_train, y_test = train_test_split(X, X2, y, test_size = 0.3, random_state=42)\n",
    "\n",
    "def evaluate_feature(X_train, X_test, y_train, y_test):\n",
    "    model = LinearRegression().fit(X_train, y_train)\n",
    "    r_score = model.score(X_test, y_test)\n",
    "    return (model, r_score)\n",
    "\n",
    "# 두 피처 집합에 대해서 모델 학습 시키고 점수 비교 \n",
    "(m1, r1) = evaluate_feature(X1_train, X1_test, y_train, y_test)\n",
    "(m2, r2) = evaluate_feature(X2_train, X2_test, y_train, y_test)\n",
    "print('R-squared score with singleton features: %.5f'%r1)\n",
    "print('R-squared source with pairwise features: %.10f'%r2)\n",
    "\n"
   ]
  },
  {
   "attachments": {},
   "cell_type": "markdown",
   "metadata": {},
   "source": [
    "# 5. Feature Selection\n",
    "- 모델 복잡성을 줄이기 위해 불필요한 피처 제거 \n",
    "- 최종 목표는 모델 성능 저하 시키지 않으면서 빠른 계산을 하는 간결한 모델 만들기\n",
    "\n",
    "#### (1) 필터링\n",
    "- 하지만 모델을 고려하지 않은 단계에서 피처를 없앤 것이니, 모델에 적합한 피처를 무심코 제거하는 실수가 될 수 O\n",
    "#### (2) 래퍼 메소드\n",
    "- 피처의 하위집합 시험 가능. 하지만 비용이 높아진다\n",
    "#### (3) 내장 메소드\n",
    "- 모델 학습 과정의 일부로서 피처 선택 수행 (L1 norm 추가 등)\n",
    "- 장점: 비용 적음\n",
    "- 단점: 래퍼 메소드보다 약함"
   ]
  },
  {
   "cell_type": "code",
   "execution_count": null,
   "metadata": {},
   "outputs": [],
   "source": []
  }
 ],
 "metadata": {
  "kernelspec": {
   "display_name": "Python 3",
   "language": "python",
   "name": "python3"
  },
  "language_info": {
   "codemirror_mode": {
    "name": "ipython",
    "version": 3
   },
   "file_extension": ".py",
   "mimetype": "text/x-python",
   "name": "python",
   "nbconvert_exporter": "python",
   "pygments_lexer": "ipython3",
   "version": "3.9.6"
  },
  "orig_nbformat": 4
 },
 "nbformat": 4,
 "nbformat_minor": 2
}
